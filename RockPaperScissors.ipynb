{
 "cells": [
  {
   "cell_type": "markdown",
   "metadata": {},
   "source": [
    "#  Challenge Level One\n"
   ]
  },
  {
   "cell_type": "markdown",
   "metadata": {},
   "source": []
  },
  {
   "cell_type": "code",
   "execution_count": 31,
   "metadata": {},
   "outputs": [],
   "source": [
    "import random\n"
   ]
  },
  {
   "cell_type": "code",
   "execution_count": 39,
   "metadata": {},
   "outputs": [],
   "source": [
    "def computer_action():\n",
    "    hand = [\"Rock\", \"Paper\", \"Scissors\"]\n",
    "    computer = random.choice(hand)\n",
    "    return computer\n",
    "computer_action()\n",
    "computer = computer_action()"
   ]
  },
  {
   "cell_type": "code",
   "execution_count": 41,
   "metadata": {},
   "outputs": [],
   "source": [
    "def user_action():\n",
    "    user = input(\"Enter a choice (Rock, Paper, Scissors): \")\n",
    "    user = user.capitalize()\n",
    "    while user not in [\"Rock\", \"Paper\", \"Scissors\"]:\n",
    "        user = input(\"\"\"You can only choose an option among the given ones: Rock, \\\n",
    "        Paper or Scissors\n",
    "        Enter a choice (Rock, Paper, Scissors): \"\"\")\n",
    "        user = user.capitalize()\n",
    "    return user\n",
    "\n",
    "user = user_action()\n",
    "    "
   ]
  },
  {
   "cell_type": "code",
   "execution_count": 42,
   "metadata": {},
   "outputs": [
    {
     "name": "stdout",
     "output_type": "stream",
     "text": [
      "Both players selected Rock. It's a tie!\n"
     ]
    }
   ],
   "source": [
    "def game():\n",
    "    if user == computer:\n",
    "        print(f\"Both players selected {user}. It's a tie!\")\n",
    "    elif user == \"Rock\":\n",
    "        if computer == \"Scissors\":\n",
    "            print(\"Rock smashes scissors! You win!\")\n",
    "        else:\n",
    "            print(\"Paper covers rock! You lose.\")\n",
    "    elif user == \"Paper\":\n",
    "        if computer == \"Rock\":\n",
    "            print(\"Paper covers rock! You win!\")\n",
    "        else:\n",
    "            print(\"Scissors cuts paper! You lose.\")\n",
    "    elif user == \"Scissors\":\n",
    "        if computer == \"Paper\":\n",
    "            print(\"Scissors cut paper! You win!\")\n",
    "        else:\n",
    "            print(\"Rock smashes scissors! You lose.\")   \n",
    "\n",
    "game()"
   ]
  },
  {
   "cell_type": "code",
   "execution_count": 4,
   "metadata": {},
   "outputs": [],
   "source": [
    "possible_actions = [\"rock\", \"paper\", \"scissors\"]\n",
    "computer_action = random.choice(possible_actions)"
   ]
  },
  {
   "cell_type": "code",
   "execution_count": 5,
   "metadata": {},
   "outputs": [
    {
     "name": "stdout",
     "output_type": "stream",
     "text": [
      "\n",
      "You chose Rock, computer chose rock.\n",
      "\n"
     ]
    }
   ],
   "source": [
    "print(f\"\\nYou chose {user_action}, computer chose {computer_action}.\\n\")\n"
   ]
  },
  {
   "cell_type": "code",
   "execution_count": 7,
   "metadata": {},
   "outputs": [],
   "source": [
    "if user_action == computer_action:\n",
    "    print(f\"Both players selected {user_action}. It's a tie!\")\n",
    "elif user_action == \"rock\":\n",
    "    if computer_action == \"scissors\":\n",
    "        print(\"Rock smashes scissors! You win!\")\n",
    "    else:\n",
    "        print(\"Paper covers rock! You lose.\")\n",
    "elif user_action == \"paper\":\n",
    "    if computer_action == \"rock\":\n",
    "        print(\"Paper covers rock! You win!\")\n",
    "    else:\n",
    "        print(\"Scissors cuts paper! You lose.\")\n",
    "elif user_action == \"scissors\":\n",
    "    if computer_action == \"paper\":\n",
    "        print(\"Scissors cuts paper! You win!\")\n",
    "    else:\n",
    "        print(\"Rock smashes scissors! You lose.\")"
   ]
  }
 ],
 "metadata": {
  "kernelspec": {
   "display_name": "Python 3.7.6 ('base')",
   "language": "python",
   "name": "python3"
  },
  "language_info": {
   "codemirror_mode": {
    "name": "ipython",
    "version": 3
   },
   "file_extension": ".py",
   "mimetype": "text/x-python",
   "name": "python",
   "nbconvert_exporter": "python",
   "pygments_lexer": "ipython3",
   "version": "3.7.6"
  },
  "orig_nbformat": 4,
  "vscode": {
   "interpreter": {
    "hash": "40d3a090f54c6569ab1632332b64b2c03c39dcf918b08424e98f38b5ae0af88f"
   }
  }
 },
 "nbformat": 4,
 "nbformat_minor": 2
}
